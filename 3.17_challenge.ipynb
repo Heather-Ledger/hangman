{
 "cells": [
  {
   "cell_type": "markdown",
   "metadata": {},
   "source": [
    "* 1.请打印3个不同的字符串"
   ]
  },
  {
   "cell_type": "code",
   "execution_count": 2,
   "metadata": {
    "collapsed": false
   },
   "outputs": [
    {
     "name": "stdout",
     "output_type": "stream",
     "text": [
      "123\n",
      "456\n",
      "789\n"
     ]
    }
   ],
   "source": [
    "import random\n",
    "print(\"123\")\n",
    "print(\"456\")\n",
    "print(\"789\")"
   ]
  },
  {
   "cell_type": "markdown",
   "metadata": {},
   "source": [
    "* 2.编写程序:如果变量的值小于10，打印一条消息;如果大于或等于\n",
    "10，则打印不同的消息"
   ]
  },
  {
   "cell_type": "code",
   "execution_count": 3,
   "metadata": {
    "collapsed": false
   },
   "outputs": [
    {
     "name": "stdout",
     "output_type": "stream",
     "text": [
      "大于十打印这个\n"
     ]
    }
   ],
   "source": [
    "a = random.randint(0,100000)\n",
    "if a < 10:\n",
    "    print('小于十打印这个')\n",
    "else:\n",
    "    print('大于十打印这个')"
   ]
  },
  {
   "cell_type": "markdown",
   "metadata": {},
   "source": [
    "* 3.编写程序:如果变量的值小于或等于10，打印一条消息;如果大于\n",
    "10且小于或等于25，则打印一条不同的消息;如果大于25，则打印另一条\n",
    "不同的消息"
   ]
  },
  {
   "cell_type": "code",
   "execution_count": 4,
   "metadata": {
    "collapsed": false,
    "scrolled": true
   },
   "outputs": [
    {
     "name": "stdout",
     "output_type": "stream",
     "text": [
      "c\n"
     ]
    }
   ],
   "source": [
    "# 不那么优秀的答案\n",
    "b = random.randint(0,100)\n",
    "if b <= 10:\n",
    "    print('a')\n",
    "# 没有考虑到可以使用小于等于号 <=，判断过 b<= 10为假才会运行这一句所以b>10是多余的\n",
    "elif b > 10 and b <= 25:\n",
    "    print('b')\n",
    "else:\n",
    "    print('c')"
   ]
  },
  {
   "cell_type": "code",
   "execution_count": 1,
   "metadata": {
    "collapsed": false
   },
   "outputs": [
    {
     "name": "stdout",
     "output_type": "stream",
     "text": [
      "x is less than or equal to 10.\n"
     ]
    }
   ],
   "source": [
    "# 优秀答案\n",
    "x = random.randint(0,100)\n",
    "if x <= 10:\n",
    "    print(\"x is less than or equal to 10.\")\n",
    "elif x <= 25:\n",
    "    print(\"x is greater than 10, but less than or equal to 25\")\n",
    "else:\n",
    "    print(\"x is greater than 25.\")"
   ]
  },
  {
   "cell_type": "markdown",
   "metadata": {},
   "source": [
    "* 4.编写一个将两个变量相除，并打印余数的程序。"
   ]
  },
  {
   "cell_type": "code",
   "execution_count": 12,
   "metadata": {
    "collapsed": false
   },
   "outputs": [
    {
     "name": "stdout",
     "output_type": "stream",
     "text": [
      "1\n"
     ]
    }
   ],
   "source": [
    "x = 5\n",
    "y = 2\n",
    "print(x % y)"
   ]
  },
  {
   "cell_type": "markdown",
   "metadata": {},
   "source": [
    "* 5.编写一个将两个变量相除，并打印商的程序。"
   ]
  },
  {
   "cell_type": "code",
   "execution_count": 14,
   "metadata": {
    "collapsed": false
   },
   "outputs": [
    {
     "name": "stdout",
     "output_type": "stream",
     "text": [
      "2\n"
     ]
    }
   ],
   "source": [
    "x = 7\n",
    "y = 3\n",
    "print(x // y)"
   ]
  },
  {
   "cell_type": "markdown",
   "metadata": {},
   "source": [
    "* 6.编写程序:为变量age赋予一个整数值，根据不同的数值打印不同\n",
    "的字符串说明"
   ]
  },
  {
   "cell_type": "code",
   "execution_count": 17,
   "metadata": {
    "collapsed": false
   },
   "outputs": [
    {
     "name": "stdout",
     "output_type": "stream",
     "text": [
      "一二三四\n"
     ]
    }
   ],
   "source": [
    "age = 0\n",
    "if age <= 0:\n",
    "    print('一二三四')\n",
    "elif age > 0 and age < 10:\n",
    "    print('五六七八')\n",
    "else:\n",
    "    print('九十十一十二')"
   ]
  }
 ],
 "metadata": {
  "anaconda-cloud": {},
  "kernelspec": {
   "display_name": "Python [conda root]",
   "language": "python",
   "name": "conda-root-py"
  },
  "language_info": {
   "codemirror_mode": {
    "name": "ipython",
    "version": 3
   },
   "file_extension": ".py",
   "mimetype": "text/x-python",
   "name": "python",
   "nbconvert_exporter": "python",
   "pygments_lexer": "ipython3",
   "version": "3.5.2"
  }
 },
 "nbformat": 4,
 "nbformat_minor": 1
}
